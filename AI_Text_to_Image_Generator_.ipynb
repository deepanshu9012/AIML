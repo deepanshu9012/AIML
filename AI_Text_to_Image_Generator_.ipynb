{
  "nbformat": 4,
  "nbformat_minor": 0,
  "metadata": {
    "colab": {
      "provenance": [],
      "gpuType": "T4",
      "include_colab_link": true
    },
    "kernelspec": {
      "name": "python3",
      "display_name": "Python 3"
    },
    "language_info": {
      "name": "python"
    },
    "accelerator": "GPU"
  },
  "cells": [
    {
      "cell_type": "markdown",
      "metadata": {
        "id": "view-in-github",
        "colab_type": "text"
      },
      "source": [
        "<a href=\"https://colab.research.google.com/github/deepanshu9012/AIML/blob/main/AI_Text_to_Image_Generator_.ipynb\" target=\"_parent\"><img src=\"https://colab.research.google.com/assets/colab-badge.svg\" alt=\"Open In Colab\"/></a>"
      ]
    },
    {
      "cell_type": "code",
      "execution_count": null,
      "metadata": {
        "id": "F7wA7d7vvwsF"
      },
      "outputs": [],
      "source": [
        "!pip install diffusers transformers accelerate --upgrade\n",
        "!pip install safetensors"
      ]
    },
    {
      "cell_type": "code",
      "source": [
        "import torch\n",
        "from diffusers import StableDiffusionPipeline\n",
        "import matplotlib.pyplot as plt\n",
        "from google.colab import userdata"
      ],
      "metadata": {
        "id": "bQp-P2dpwnc_"
      },
      "execution_count": null,
      "outputs": []
    },
    {
      "cell_type": "code",
      "source": [
        "from huggingface_hub import login\n",
        "login(token=userdata.get('HF_TOKEN'))  # Paste your huggingface token here"
      ],
      "metadata": {
        "id": "Sl3XpnBOwuRB"
      },
      "execution_count": null,
      "outputs": []
    },
    {
      "cell_type": "code",
      "source": [
        "pipe = StableDiffusionPipeline.from_pretrained(\n",
        "    \"runwayml/stable-diffusion-v1-5\",\n",
        "    torch_dtype=torch.float16,\n",
        "    use_safetensors=True\n",
        ")\n",
        "pipe = pipe.to(\"cuda\")"
      ],
      "metadata": {
        "id": "AUQ12YBTxTKN"
      },
      "execution_count": null,
      "outputs": []
    },
    {
      "cell_type": "code",
      "source": [
        "user_prompt = input(\"Enter your image prompt: \")"
      ],
      "metadata": {
        "id": "oKBeiskXxXpC"
      },
      "execution_count": null,
      "outputs": []
    },
    {
      "cell_type": "code",
      "source": [
        "image = pipe(user_prompt).images[0]\n",
        "\n",
        "# Display the generated image\n",
        "plt.imshow(image)\n",
        "plt.axis(\"off\")\n",
        "plt.title(\"Generated Image\")\n",
        "plt.show()"
      ],
      "metadata": {
        "id": "V9VnUkiExnTU"
      },
      "execution_count": null,
      "outputs": []
    }
  ]
}